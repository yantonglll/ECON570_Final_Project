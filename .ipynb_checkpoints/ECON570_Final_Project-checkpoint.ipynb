{
 "cells": [
  {
   "cell_type": "markdown",
   "id": "b8bf2804",
   "metadata": {},
   "source": [
    "## ECON 570 Final Project\n",
    "### Instructor: Ida Johnsson\n",
    "### Group Members: Mingyu Zhao, Shang Gao, Yantong Li"
   ]
  }
 ],
 "metadata": {
  "kernelspec": {
   "display_name": "Python 3 (ipykernel)",
   "language": "python",
   "name": "python3"
  },
  "language_info": {
   "codemirror_mode": {
    "name": "ipython",
    "version": 3
   },
   "file_extension": ".py",
   "mimetype": "text/x-python",
   "name": "python",
   "nbconvert_exporter": "python",
   "pygments_lexer": "ipython3",
   "version": "3.9.7"
  }
 },
 "nbformat": 4,
 "nbformat_minor": 5
}
