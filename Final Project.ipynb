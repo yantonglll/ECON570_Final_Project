{
 "cells": [
  {
   "cell_type": "markdown",
   "id": "4a29999e",
   "metadata": {},
   "source": [
    "## ECON 570 Final Project\n",
    "### Instructor: Ida Johnsson\n",
    "### Group Members: Mingyu Zhao, Shang Gao, Yantong Li"
   ]
  },
  {
   "cell_type": "code",
   "execution_count": 2,
   "id": "1cbabab6",
   "metadata": {},
   "outputs": [],
   "source": [
    "import pandas as pd\n",
    "import numpy as np\n",
    "import statsmodels.api as sm\n",
    "import statsmodels.formula.api as smf\n",
    "import matplotlib.pyplot as plt\n",
    "from sklearn.linear_model import LinearRegression"
   ]
  },
  {
   "cell_type": "markdown",
   "id": "380151f9",
   "metadata": {},
   "source": [
    "## I. Introduction"
   ]
  },
  {
   "cell_type": "markdown",
   "id": "0571fd02",
   "metadata": {},
   "source": [
    "-a. Background and Questions"
   ]
  },
  {
   "cell_type": "markdown",
   "id": "c7b33d0c",
   "metadata": {},
   "source": [
    "Singapore is a south-eastern Asian country with a land area of 280 square miles (Los Angeles is 503 square miles). It is one of the smallest countries in the world, and it is also famous in its public housing system. 86% of Singaporeans are living in the public houses built by Housing & Development Board (HDB) (Sau, 2011). According to the HDB, there are some limitations on the public houses. One is that the house ownership will expire in 99 years after its construction, and another one is that flats under new scheme can only be sold in the resale market after 10 years. Given these unique characteristics, we are interested in Covid’s impact on public houses in Singapore. Specifically, we want to investigate if covid had impact on people’s preference on different prime districts, and if covid had impact on people’s preference on different house types or house models."
   ]
  },
  {
   "cell_type": "markdown",
   "id": "715ceafb",
   "metadata": {},
   "source": [
    "-b Why should we care about these questions?"
   ]
  },
  {
   "cell_type": "markdown",
   "id": "2e08c61a",
   "metadata": {},
   "source": [
    "Answering these questions can help HDB to understand which types/models of houses they should build more to meet the changing preference. Also, it can help HDB to understand where the hottest house market district is in post-Covid era. "
   ]
  },
  {
   "cell_type": "markdown",
   "id": "76d08cdf",
   "metadata": {},
   "source": [
    "-c.Any previous paper?"
   ]
  },
  {
   "cell_type": "markdown",
   "id": "42ce803b",
   "metadata": {},
   "source": [
    "We did not find paper about Covid impacts on HDB house price, but there are many papers talking about covid impacts on house price in other countries. Qian, Qiu, and Zhang (2021) showed that the house price in China reduced by 2.47% due to Covid. Annenberg and Ringo (2021) stated that there was an increasing demand in housing market, and such increase resulted in a higher house price in the United States.In addtion,we follow Wen (2005)’s idea that neighborhoods have a large set of characteristics, such as socioeconomic factors (neighbors’ status, residents’ income), public services (school, hospital, church), and externalities (crime rate, traffic, noise) to evaluate Covid’s impact on different districts in Singapore. "
   ]
  },
  {
   "cell_type": "markdown",
   "id": "5de47692",
   "metadata": {},
   "source": [
    "## II. Data"
   ]
  },
  {
   "cell_type": "markdown",
   "id": "31a3fae2",
   "metadata": {},
   "source": [
    "Our dataset was found on https://www.kaggle.com/datasets/denzilg/hdb-flat-prices-19902021-march, and it was contributed by a Singaporean. It includes HDB public houses resale data from 1990 to 2021, but we only consider data from 2019 to 2021 in our project. The contributor divided Singapore into 6 districts from 1 to 6, where 1 is the most prime part in Singapore and 6 is the least prime part in Singapore. Besides district division, this dataset also includes the house types and house models of sold public houses. \n",
    "\tThe dependent variable is called prices cpi-adjusted and we decided not to remove any outliers from our data because it's common to see extremum in sold house prices. Summary statistics include the mean, the median, the standard deviation, the 25th percentile, and the 75th percentile of the dataset. For the dependent variable (prices cpi-adjusted), the mean is 449109.149388, the median is 420500.308209, the standard deviation is 156432.740458, the 25th percentile is 335785.7386, and the 75th percentile is 530121.928."
   ]
  },
  {
   "cell_type": "markdown",
   "id": "b929bb86",
   "metadata": {},
   "source": [
    "-Meanings of Some Independent Variables"
   ]
  },
  {
   "cell_type": "markdown",
   "id": "ee1fb04f",
   "metadata": {},
   "source": [
    "flat_type: HDB-specified flat type ['4 ROOM' '3 ROOM' '1 ROOM' '5 ROOM' 'EXECUTIVE' '2 ROOM''MULTI GENERATION']\n",
    "\n",
    "storey: storey number\n",
    "\n",
    "lease_rem: The number of years of remaining lease\n",
    "\n",
    "flat_model: HDB-specified flat model (not the same as flat type) ['New Generation', 'Improved', 'Standard', 'Model A', 'Apartment', 'Maisonette', 'Model A-Maisonette', 'Simplified', 'Terrace', 'Improved-Maisonette', 'MULTI GENERATION', 'Premium Apartment', 'Multi Generation', 'Adjoined flat', 'Premium Maisonette', '2-room', 'Model A2', 'DBSS', 'Type S1', 'Type S2', 'Premium Apartment Loft']"
   ]
  },
  {
   "cell_type": "code",
   "execution_count": 3,
   "id": "ef230a12",
   "metadata": {
    "scrolled": true
   },
   "outputs": [
    {
     "data": {
      "text/html": [
       "<div>\n",
       "<style scoped>\n",
       "    .dataframe tbody tr th:only-of-type {\n",
       "        vertical-align: middle;\n",
       "    }\n",
       "\n",
       "    .dataframe tbody tr th {\n",
       "        vertical-align: top;\n",
       "    }\n",
       "\n",
       "    .dataframe thead th {\n",
       "        text-align: right;\n",
       "    }\n",
       "</style>\n",
       "<table border=\"1\" class=\"dataframe\">\n",
       "  <thead>\n",
       "    <tr style=\"text-align: right;\">\n",
       "      <th></th>\n",
       "      <th>month</th>\n",
       "      <th>town</th>\n",
       "      <th>town_dummy</th>\n",
       "      <th>flat_type</th>\n",
       "      <th>block</th>\n",
       "      <th>street_name</th>\n",
       "      <th>address</th>\n",
       "      <th>latitude</th>\n",
       "      <th>longitude</th>\n",
       "      <th>storey_range</th>\n",
       "      <th>...</th>\n",
       "      <th>price_psm_yearly</th>\n",
       "      <th>Core CPI</th>\n",
       "      <th>price cpi_adj</th>\n",
       "      <th>price_psm cpi_adj</th>\n",
       "      <th>bala lease pct</th>\n",
       "      <th>price lease_adj implied</th>\n",
       "      <th>price_psm lease_adj implied</th>\n",
       "      <th>price cpi_lease_adj implied</th>\n",
       "      <th>price_psm cpi_lease_adj implied</th>\n",
       "      <th>year_gni</th>\n",
       "    </tr>\n",
       "  </thead>\n",
       "  <tbody>\n",
       "    <tr>\n",
       "      <th>0</th>\n",
       "      <td>2019-01</td>\n",
       "      <td>ANG MO KIO</td>\n",
       "      <td>2</td>\n",
       "      <td>5 ROOM</td>\n",
       "      <td>700B</td>\n",
       "      <td>ANG MO KIO AVE 6</td>\n",
       "      <td>700B ANG MO KIO AVE 6 SINGAPORE</td>\n",
       "      <td>1.369457</td>\n",
       "      <td>103.846276</td>\n",
       "      <td>19 TO 21</td>\n",
       "      <td>...</td>\n",
       "      <td>86.160860</td>\n",
       "      <td>99.961</td>\n",
       "      <td>794109.7028</td>\n",
       "      <td>7154.141466</td>\n",
       "      <td>92.2</td>\n",
       "      <td>826516.268980</td>\n",
       "      <td>7446.092513</td>\n",
       "      <td>826838.736104</td>\n",
       "      <td>7448.997622</td>\n",
       "      <td>78847</td>\n",
       "    </tr>\n",
       "    <tr>\n",
       "      <th>1</th>\n",
       "      <td>2019-01</td>\n",
       "      <td>ANG MO KIO</td>\n",
       "      <td>2</td>\n",
       "      <td>5 ROOM</td>\n",
       "      <td>316A</td>\n",
       "      <td>ANG MO KIO ST 31</td>\n",
       "      <td>316A ANG MO KIO ST 31 SINGAPORE</td>\n",
       "      <td>1.364621</td>\n",
       "      <td>103.847080</td>\n",
       "      <td>19 TO 21</td>\n",
       "      <td>...</td>\n",
       "      <td>81.395349</td>\n",
       "      <td>99.961</td>\n",
       "      <td>770300.4172</td>\n",
       "      <td>7002.731065</td>\n",
       "      <td>93.3</td>\n",
       "      <td>792282.958199</td>\n",
       "      <td>7202.572347</td>\n",
       "      <td>792592.069145</td>\n",
       "      <td>7205.382446</td>\n",
       "      <td>78847</td>\n",
       "    </tr>\n",
       "    <tr>\n",
       "      <th>2</th>\n",
       "      <td>2019-01</td>\n",
       "      <td>ANG MO KIO</td>\n",
       "      <td>2</td>\n",
       "      <td>4 ROOM</td>\n",
       "      <td>310B</td>\n",
       "      <td>ANG MO KIO AVE 1</td>\n",
       "      <td>310B ANG MO KIO AVE 1 SINGAPORE</td>\n",
       "      <td>1.364778</td>\n",
       "      <td>103.844221</td>\n",
       "      <td>25 TO 27</td>\n",
       "      <td>...</td>\n",
       "      <td>84.918478</td>\n",
       "      <td>99.961</td>\n",
       "      <td>750292.6141</td>\n",
       "      <td>7815.548064</td>\n",
       "      <td>95.0</td>\n",
       "      <td>757894.736842</td>\n",
       "      <td>7894.736842</td>\n",
       "      <td>758190.431091</td>\n",
       "      <td>7897.816991</td>\n",
       "      <td>78847</td>\n",
       "    </tr>\n",
       "    <tr>\n",
       "      <th>3</th>\n",
       "      <td>2019-01</td>\n",
       "      <td>ANG MO KIO</td>\n",
       "      <td>2</td>\n",
       "      <td>5 ROOM</td>\n",
       "      <td>315B</td>\n",
       "      <td>ANG MO KIO ST 31</td>\n",
       "      <td>315B ANG MO KIO ST 31 SINGAPORE</td>\n",
       "      <td>1.364079</td>\n",
       "      <td>103.847476</td>\n",
       "      <td>13 TO 15</td>\n",
       "      <td>...</td>\n",
       "      <td>76.955603</td>\n",
       "      <td>99.961</td>\n",
       "      <td>728284.0308</td>\n",
       "      <td>6620.763916</td>\n",
       "      <td>93.3</td>\n",
       "      <td>749067.524116</td>\n",
       "      <td>6809.704765</td>\n",
       "      <td>749359.774457</td>\n",
       "      <td>6812.361586</td>\n",
       "      <td>78847</td>\n",
       "    </tr>\n",
       "    <tr>\n",
       "      <th>4</th>\n",
       "      <td>2019-01</td>\n",
       "      <td>ANG MO KIO</td>\n",
       "      <td>2</td>\n",
       "      <td>5 ROOM</td>\n",
       "      <td>353</td>\n",
       "      <td>ANG MO KIO ST 32</td>\n",
       "      <td>353 ANG MO KIO ST 32 SINGAPORE</td>\n",
       "      <td>1.364015</td>\n",
       "      <td>103.851622</td>\n",
       "      <td>16 TO 18</td>\n",
       "      <td>...</td>\n",
       "      <td>81.705948</td>\n",
       "      <td>99.961</td>\n",
       "      <td>728284.0308</td>\n",
       "      <td>6620.763916</td>\n",
       "      <td>91.4</td>\n",
       "      <td>764638.949672</td>\n",
       "      <td>6951.263179</td>\n",
       "      <td>764937.275239</td>\n",
       "      <td>6953.975229</td>\n",
       "      <td>78847</td>\n",
       "    </tr>\n",
       "  </tbody>\n",
       "</table>\n",
       "<p>5 rows × 27 columns</p>\n",
       "</div>"
      ],
      "text/plain": [
       "     month        town  town_dummy flat_type block       street_name  \\\n",
       "0  2019-01  ANG MO KIO           2    5 ROOM  700B  ANG MO KIO AVE 6   \n",
       "1  2019-01  ANG MO KIO           2    5 ROOM  316A  ANG MO KIO ST 31   \n",
       "2  2019-01  ANG MO KIO           2    4 ROOM  310B  ANG MO KIO AVE 1   \n",
       "3  2019-01  ANG MO KIO           2    5 ROOM  315B  ANG MO KIO ST 31   \n",
       "4  2019-01  ANG MO KIO           2    5 ROOM   353  ANG MO KIO ST 32   \n",
       "\n",
       "                           address  latitude   longitude storey_range  ...  \\\n",
       "0  700B ANG MO KIO AVE 6 SINGAPORE  1.369457  103.846276     19 TO 21  ...   \n",
       "1  316A ANG MO KIO ST 31 SINGAPORE  1.364621  103.847080     19 TO 21  ...   \n",
       "2  310B ANG MO KIO AVE 1 SINGAPORE  1.364778  103.844221     25 TO 27  ...   \n",
       "3  315B ANG MO KIO ST 31 SINGAPORE  1.364079  103.847476     13 TO 15  ...   \n",
       "4   353 ANG MO KIO ST 32 SINGAPORE  1.364015  103.851622     16 TO 18  ...   \n",
       "\n",
       "   price_psm_yearly  Core CPI price cpi_adj  price_psm cpi_adj  \\\n",
       "0         86.160860    99.961   794109.7028        7154.141466   \n",
       "1         81.395349    99.961   770300.4172        7002.731065   \n",
       "2         84.918478    99.961   750292.6141        7815.548064   \n",
       "3         76.955603    99.961   728284.0308        6620.763916   \n",
       "4         81.705948    99.961   728284.0308        6620.763916   \n",
       "\n",
       "   bala lease pct  price lease_adj implied  price_psm lease_adj implied  \\\n",
       "0            92.2            826516.268980                  7446.092513   \n",
       "1            93.3            792282.958199                  7202.572347   \n",
       "2            95.0            757894.736842                  7894.736842   \n",
       "3            93.3            749067.524116                  6809.704765   \n",
       "4            91.4            764638.949672                  6951.263179   \n",
       "\n",
       "   price cpi_lease_adj implied  price_psm cpi_lease_adj implied  year_gni  \n",
       "0                826838.736104                      7448.997622     78847  \n",
       "1                792592.069145                      7205.382446     78847  \n",
       "2                758190.431091                      7897.816991     78847  \n",
       "3                749359.774457                      6812.361586     78847  \n",
       "4                764937.275239                      6953.975229     78847  \n",
       "\n",
       "[5 rows x 27 columns]"
      ]
     },
     "execution_count": 3,
     "metadata": {},
     "output_type": "execute_result"
    }
   ],
   "source": [
    "data_source = \"https://raw.githubusercontent.com/yantonglll/ECON570_Final_Project/main/ALL%20Prices%202019-2021%20mar.csv\"\n",
    "data = pd.read_csv(data_source)\n",
    "data.head()"
   ]
  },
  {
   "cell_type": "markdown",
   "id": "9698e136",
   "metadata": {},
   "source": [
    "-Summary Statistics"
   ]
  },
  {
   "cell_type": "code",
   "execution_count": 11,
   "id": "98cc2a03",
   "metadata": {},
   "outputs": [
    {
     "name": "stderr",
     "output_type": "stream",
     "text": [
      "C:\\Users\\Shang\\AppData\\Local\\Temp/ipykernel_18768/531903386.py:1: FutureWarning: Dropping of nuisance columns in DataFrame reductions (with 'numeric_only=None') is deprecated; in a future version this will raise TypeError.  Select only valid columns before calling the reduction.\n",
      "  data.mean()\n"
     ]
    },
    {
     "data": {
      "text/plain": [
       "town_dummy                              3.986019\n",
       "latitude                                1.368154\n",
       "longitude                             103.841947\n",
       "storey                                  8.629908\n",
       "area_sqm                               97.475734\n",
       "lease_start                          1995.629794\n",
       "lease_rem                              74.916149\n",
       "resale_price                       448966.534107\n",
       "price_psm                            4637.302933\n",
       "price_psm_yearly                       63.071376\n",
       "Core CPI                               99.965318\n",
       "price cpi_adj                      449109.149388\n",
       "price_psm cpi_adj                    4638.786463\n",
       "bala lease pct                         87.465088\n",
       "price lease_adj implied            490849.372381\n",
       "price_psm lease_adj implied          5085.421549\n",
       "price cpi_lease_adj implied        491004.393064\n",
       "price_psm cpi_lease_adj implied      5087.039705\n",
       "year_gni                            75476.395129\n",
       "covid_dum                               0.578541\n",
       "dtype: float64"
      ]
     },
     "execution_count": 11,
     "metadata": {},
     "output_type": "execute_result"
    }
   ],
   "source": [
    "data.mean()"
   ]
  },
  {
   "cell_type": "code",
   "execution_count": 12,
   "id": "d799ee91",
   "metadata": {},
   "outputs": [
    {
     "name": "stderr",
     "output_type": "stream",
     "text": [
      "C:\\Users\\Shang\\AppData\\Local\\Temp/ipykernel_18768/4184645713.py:1: FutureWarning: Dropping of nuisance columns in DataFrame reductions (with 'numeric_only=None') is deprecated; in a future version this will raise TypeError.  Select only valid columns before calling the reduction.\n",
      "  data.median()\n"
     ]
    },
    {
     "data": {
      "text/plain": [
       "town_dummy                              4.000000\n",
       "latitude                                1.368377\n",
       "longitude                             103.847206\n",
       "storey                                  8.000000\n",
       "area_sqm                               93.000000\n",
       "lease_start                          1996.000000\n",
       "lease_rem                              75.000000\n",
       "resale_price                       420000.000000\n",
       "price_psm                            4328.358209\n",
       "price_psm_yearly                       58.717254\n",
       "Core CPI                               99.952000\n",
       "price cpi_adj                      420500.395500\n",
       "price_psm cpi_adj                    4330.460722\n",
       "bala lease pct                         88.500000\n",
       "price lease_adj implied            453033.707865\n",
       "price_psm lease_adj implied          4800.000000\n",
       "price cpi_lease_adj implied        453288.009560\n",
       "price_psm cpi_lease_adj implied      4801.614451\n",
       "year_gni                            75000.000000\n",
       "covid_dum                               1.000000\n",
       "dtype: float64"
      ]
     },
     "execution_count": 12,
     "metadata": {},
     "output_type": "execute_result"
    }
   ],
   "source": [
    "data.median()"
   ]
  },
  {
   "cell_type": "code",
   "execution_count": 13,
   "id": "df619886",
   "metadata": {},
   "outputs": [
    {
     "name": "stderr",
     "output_type": "stream",
     "text": [
      "C:\\Users\\Shang\\AppData\\Local\\Temp/ipykernel_18768/2723740006.py:1: FutureWarning: Dropping of nuisance columns in DataFrame reductions (with 'numeric_only=None') is deprecated; in a future version this will raise TypeError.  Select only valid columns before calling the reduction.\n",
      "  data.std()\n"
     ]
    },
    {
     "data": {
      "text/plain": [
       "town_dummy                              1.335508\n",
       "latitude                                0.042548\n",
       "longitude                               0.071105\n",
       "storey                                  5.821679\n",
       "area_sqm                               24.272039\n",
       "lease_start                            13.819732\n",
       "lease_rem                              13.787720\n",
       "resale_price                       156429.568400\n",
       "price_psm                            1261.668212\n",
       "price_psm_yearly                       16.934227\n",
       "Core CPI                                0.213564\n",
       "price cpi_adj                      156432.740458\n",
       "price_psm cpi_adj                    1261.544423\n",
       "bala lease pct                          6.436430\n",
       "price lease_adj implied            162943.221987\n",
       "price_psm lease_adj implied          1277.759841\n",
       "price cpi_lease_adj implied        162937.583909\n",
       "price_psm cpi_lease_adj implied      1277.494957\n",
       "year_gni                             2994.466875\n",
       "covid_dum                               0.493797\n",
       "dtype: float64"
      ]
     },
     "execution_count": 13,
     "metadata": {},
     "output_type": "execute_result"
    }
   ],
   "source": [
    "data.std()"
   ]
  },
  {
   "cell_type": "code",
   "execution_count": 14,
   "id": "991a34c2",
   "metadata": {},
   "outputs": [
    {
     "data": {
      "text/plain": [
       "town_dummy                              3.000000\n",
       "latitude                                1.337799\n",
       "longitude                             103.779077\n",
       "storey                                  5.000000\n",
       "area_sqm                               82.000000\n",
       "lease_start                          1985.000000\n",
       "lease_rem                              64.000000\n",
       "resale_price                       335000.000000\n",
       "price_psm                            3815.476190\n",
       "price_psm_yearly                       50.502152\n",
       "Core CPI                               99.865000\n",
       "price cpi_adj                      335785.738600\n",
       "price_psm cpi_adj                    3816.873921\n",
       "bala lease pct                         82.400000\n",
       "price lease_adj implied            374515.662651\n",
       "price_psm lease_adj implied          4243.665768\n",
       "price cpi_lease_adj implied        374726.885728\n",
       "price_psm cpi_lease_adj implied      4245.005900\n",
       "year_gni                            72418.000000\n",
       "covid_dum                               0.000000\n",
       "Name: 0.25, dtype: float64"
      ]
     },
     "execution_count": 14,
     "metadata": {},
     "output_type": "execute_result"
    }
   ],
   "source": [
    "data.quantile(q=0.25, axis=0, numeric_only=True, interpolation='linear')"
   ]
  },
  {
   "cell_type": "code",
   "execution_count": 15,
   "id": "ce6c36d0",
   "metadata": {},
   "outputs": [
    {
     "data": {
      "text/plain": [
       "town_dummy                              5.000000\n",
       "latitude                                1.395882\n",
       "longitude                             103.899374\n",
       "storey                                 11.000000\n",
       "area_sqm                              113.000000\n",
       "lease_start                          2010.000000\n",
       "lease_rem                              89.000000\n",
       "resale_price                       530000.000000\n",
       "price_psm                            5074.626866\n",
       "price_psm_yearly                       72.035900\n",
       "Core CPI                              100.121000\n",
       "price cpi_adj                      530121.928000\n",
       "price_psm cpi_adj                    5075.811907\n",
       "bala lease pct                         94.300000\n",
       "price lease_adj implied            570514.285714\n",
       "price_psm lease_adj implied          5558.823529\n",
       "price cpi_lease_adj implied        570553.460586\n",
       "price_psm cpi_lease_adj implied      5559.402836\n",
       "year_gni                            78847.000000\n",
       "covid_dum                               1.000000\n",
       "Name: 0.75, dtype: float64"
      ]
     },
     "execution_count": 15,
     "metadata": {},
     "output_type": "execute_result"
    }
   ],
   "source": [
    "data.quantile(q=0.75, axis=0, numeric_only=True, interpolation='linear')"
   ]
  },
  {
   "cell_type": "markdown",
   "id": "b63bfbe5",
   "metadata": {},
   "source": [
    "## III. Model"
   ]
  },
  {
   "cell_type": "markdown",
   "id": "82c5f6f5",
   "metadata": {},
   "source": [
    "### III.1 Model 1:\n",
    "We first investigate a model where Y, the dependent variable, is price cpi_adj. Independent variables, or the covariates, are town_dummy, covid dummy, area_sqm, lease_rem, storey, and flat_type. The model should look like this:\n",
    "\n",
    "$ $price cpi_adj$_i = \\beta_0 + \\beta_1*$town_dummy$_i+\\beta_2*$covid_dummy$_i+\\beta_3*$area_sqm$_i+\\beta_4*$lease_rem$_i+\\beta_5*storey_i+\\beta_6*$flat_type$_i+e_i$,  \n",
    "\n",
    "where $e_i \\sim N(0,\\sigma^2)$"
   ]
  },
  {
   "cell_type": "code",
   "execution_count": 5,
   "id": "a0591ea3",
   "metadata": {},
   "outputs": [],
   "source": [
    "data_sum=data"
   ]
  },
  {
   "cell_type": "code",
   "execution_count": 6,
   "id": "1f8e4b6a",
   "metadata": {},
   "outputs": [],
   "source": [
    "# create a dummy for covid\n",
    "data_sum[\"covid_dum\"] = (data_sum.month >= \"2020-01\").astype(int)\n",
    "data_sum\n",
    "\n",
    "# rename \"price cpi_adj\"\n",
    "data_sum = data_sum.rename(columns = {\"price cpi_adj\":\"price_cpi_adj\"})"
   ]
  },
  {
   "cell_type": "markdown",
   "id": "e56ea173",
   "metadata": {},
   "source": [
    "Now, we create dummies for town_dummy, it is important to keep in mind that town_dummy is from 1-6, with 1 being the most prime area and 6 being the least prime area"
   ]
  },
  {
   "cell_type": "code",
   "execution_count": 7,
   "id": "a28dc919",
   "metadata": {},
   "outputs": [],
   "source": [
    "# create dummies for town_dummy\n",
    "town_dum = pd.get_dummies(data_sum['town_dummy'])\n",
    "town_dum\n",
    "\n",
    "# Attach these dummies to dataframe\n",
    "data_c = pd.concat([data_sum,town_dum], axis=1)\n",
    "data_c\n",
    "\n",
    "# Rename columns\n",
    "data_rn1 = data_c.rename(columns = {1: \"town_1\",2: \"town_2\",3: \"town_3\",4: \"town_4\",5: \"town_5\",6: \"town_6\"})\n",
    "\n",
    "#data_rn.columns"
   ]
  },
  {
   "cell_type": "code",
   "execution_count": 8,
   "id": "ecc099e3",
   "metadata": {},
   "outputs": [],
   "source": [
    "# set variable \"flat_type\" to a categorical variable\n",
    "data_rn1[\"flat_type\"].describe()\n",
    "data_rn1[\"flat_type\"] = data_rn1[\"flat_type\"].astype(\"category\")"
   ]
  },
  {
   "cell_type": "code",
   "execution_count": 9,
   "id": "63e62882",
   "metadata": {},
   "outputs": [],
   "source": [
    "data_rn1[\"flat_type\"] = data_rn1[\"flat_type\"].cat.codes"
   ]
  },
  {
   "cell_type": "markdown",
   "id": "907cee98",
   "metadata": {},
   "source": [
    "#### Now let's run the regression with model 1:"
   ]
  },
  {
   "cell_type": "code",
   "execution_count": 10,
   "id": "a130ac66",
   "metadata": {},
   "outputs": [
    {
     "data": {
      "text/html": [
       "<table class=\"simpletable\">\n",
       "<caption>OLS Regression Results</caption>\n",
       "<tr>\n",
       "  <th>Dep. Variable:</th>      <td>price_cpi_adj</td>  <th>  R-squared:         </th>  <td>   0.775</td>  \n",
       "</tr>\n",
       "<tr>\n",
       "  <th>Model:</th>                   <td>OLS</td>       <th>  Adj. R-squared:    </th>  <td>   0.775</td>  \n",
       "</tr>\n",
       "<tr>\n",
       "  <th>Method:</th>             <td>Least Squares</td>  <th>  F-statistic:       </th>  <td>1.814e+04</td> \n",
       "</tr>\n",
       "<tr>\n",
       "  <th>Date:</th>             <td>Mon, 02 May 2022</td> <th>  Prob (F-statistic):</th>   <td>  0.00</td>   \n",
       "</tr>\n",
       "<tr>\n",
       "  <th>Time:</th>                 <td>15:34:14</td>     <th>  Log-Likelihood:    </th> <td>-6.6502e+05</td>\n",
       "</tr>\n",
       "<tr>\n",
       "  <th>No. Observations:</th>      <td> 52641</td>      <th>  AIC:               </th>  <td>1.330e+06</td> \n",
       "</tr>\n",
       "<tr>\n",
       "  <th>Df Residuals:</th>          <td> 52630</td>      <th>  BIC:               </th>  <td>1.330e+06</td> \n",
       "</tr>\n",
       "<tr>\n",
       "  <th>Df Model:</th>              <td>    10</td>      <th>                     </th>      <td> </td>     \n",
       "</tr>\n",
       "<tr>\n",
       "  <th>Covariance Type:</th>      <td>nonrobust</td>    <th>                     </th>      <td> </td>     \n",
       "</tr>\n",
       "</table>\n",
       "<table class=\"simpletable\">\n",
       "<tr>\n",
       "      <td></td>         <th>coef</th>     <th>std err</th>      <th>t</th>      <th>P>|t|</th>  <th>[0.025</th>    <th>0.975]</th>  \n",
       "</tr>\n",
       "<tr>\n",
       "  <th>Intercept</th> <td>-1.467e+05</td> <td> 3070.423</td> <td>  -47.771</td> <td> 0.000</td> <td>-1.53e+05</td> <td>-1.41e+05</td>\n",
       "</tr>\n",
       "<tr>\n",
       "  <th>covid_dum</th> <td> 1.836e+04</td> <td>  657.696</td> <td>   27.916</td> <td> 0.000</td> <td> 1.71e+04</td> <td> 1.96e+04</td>\n",
       "</tr>\n",
       "<tr>\n",
       "  <th>town_2</th>    <td>-7.309e+04</td> <td> 2019.519</td> <td>  -36.193</td> <td> 0.000</td> <td>-7.71e+04</td> <td>-6.91e+04</td>\n",
       "</tr>\n",
       "<tr>\n",
       "  <th>town_3</th>    <td>-6.765e+04</td> <td> 2324.524</td> <td>  -29.104</td> <td> 0.000</td> <td>-7.22e+04</td> <td>-6.31e+04</td>\n",
       "</tr>\n",
       "<tr>\n",
       "  <th>town_4</th>    <td>-2.018e+05</td> <td> 1965.077</td> <td> -102.707</td> <td> 0.000</td> <td>-2.06e+05</td> <td>-1.98e+05</td>\n",
       "</tr>\n",
       "<tr>\n",
       "  <th>town_5</th>    <td>-2.571e+05</td> <td> 1990.389</td> <td> -129.190</td> <td> 0.000</td> <td>-2.61e+05</td> <td>-2.53e+05</td>\n",
       "</tr>\n",
       "<tr>\n",
       "  <th>town_6</th>    <td>-2.558e+05</td> <td> 2100.351</td> <td> -121.784</td> <td> 0.000</td> <td> -2.6e+05</td> <td>-2.52e+05</td>\n",
       "</tr>\n",
       "<tr>\n",
       "  <th>lease_rem</th> <td> 3949.6076</td> <td>   27.677</td> <td>  142.703</td> <td> 0.000</td> <td> 3895.360</td> <td> 4003.855</td>\n",
       "</tr>\n",
       "<tr>\n",
       "  <th>area_sqm</th>  <td> 3676.5236</td> <td>   45.953</td> <td>   80.006</td> <td> 0.000</td> <td> 3586.455</td> <td> 3766.592</td>\n",
       "</tr>\n",
       "<tr>\n",
       "  <th>flat_type</th> <td> 2.165e+04</td> <td> 1204.968</td> <td>   17.965</td> <td> 0.000</td> <td> 1.93e+04</td> <td>  2.4e+04</td>\n",
       "</tr>\n",
       "<tr>\n",
       "  <th>storey</th>    <td> 5612.6221</td> <td>   59.923</td> <td>   93.664</td> <td> 0.000</td> <td> 5495.173</td> <td> 5730.071</td>\n",
       "</tr>\n",
       "</table>\n",
       "<table class=\"simpletable\">\n",
       "<tr>\n",
       "  <th>Omnibus:</th>       <td>4850.771</td> <th>  Durbin-Watson:     </th> <td>   0.722</td>\n",
       "</tr>\n",
       "<tr>\n",
       "  <th>Prob(Omnibus):</th>  <td> 0.000</td>  <th>  Jarque-Bera (JB):  </th> <td>7319.515</td>\n",
       "</tr>\n",
       "<tr>\n",
       "  <th>Skew:</th>           <td> 0.711</td>  <th>  Prob(JB):          </th> <td>    0.00</td>\n",
       "</tr>\n",
       "<tr>\n",
       "  <th>Kurtosis:</th>       <td> 4.147</td>  <th>  Cond. No.          </th> <td>1.85e+03</td>\n",
       "</tr>\n",
       "</table><br/><br/>Notes:<br/>[1] Standard Errors assume that the covariance matrix of the errors is correctly specified.<br/>[2] The condition number is large, 1.85e+03. This might indicate that there are<br/>strong multicollinearity or other numerical problems."
      ],
      "text/plain": [
       "<class 'statsmodels.iolib.summary.Summary'>\n",
       "\"\"\"\n",
       "                            OLS Regression Results                            \n",
       "==============================================================================\n",
       "Dep. Variable:          price_cpi_adj   R-squared:                       0.775\n",
       "Model:                            OLS   Adj. R-squared:                  0.775\n",
       "Method:                 Least Squares   F-statistic:                 1.814e+04\n",
       "Date:                Mon, 02 May 2022   Prob (F-statistic):               0.00\n",
       "Time:                        15:34:14   Log-Likelihood:            -6.6502e+05\n",
       "No. Observations:               52641   AIC:                         1.330e+06\n",
       "Df Residuals:                   52630   BIC:                         1.330e+06\n",
       "Df Model:                          10                                         \n",
       "Covariance Type:            nonrobust                                         \n",
       "==============================================================================\n",
       "                 coef    std err          t      P>|t|      [0.025      0.975]\n",
       "------------------------------------------------------------------------------\n",
       "Intercept  -1.467e+05   3070.423    -47.771      0.000   -1.53e+05   -1.41e+05\n",
       "covid_dum   1.836e+04    657.696     27.916      0.000    1.71e+04    1.96e+04\n",
       "town_2     -7.309e+04   2019.519    -36.193      0.000   -7.71e+04   -6.91e+04\n",
       "town_3     -6.765e+04   2324.524    -29.104      0.000   -7.22e+04   -6.31e+04\n",
       "town_4     -2.018e+05   1965.077   -102.707      0.000   -2.06e+05   -1.98e+05\n",
       "town_5     -2.571e+05   1990.389   -129.190      0.000   -2.61e+05   -2.53e+05\n",
       "town_6     -2.558e+05   2100.351   -121.784      0.000    -2.6e+05   -2.52e+05\n",
       "lease_rem   3949.6076     27.677    142.703      0.000    3895.360    4003.855\n",
       "area_sqm    3676.5236     45.953     80.006      0.000    3586.455    3766.592\n",
       "flat_type   2.165e+04   1204.968     17.965      0.000    1.93e+04     2.4e+04\n",
       "storey      5612.6221     59.923     93.664      0.000    5495.173    5730.071\n",
       "==============================================================================\n",
       "Omnibus:                     4850.771   Durbin-Watson:                   0.722\n",
       "Prob(Omnibus):                  0.000   Jarque-Bera (JB):             7319.515\n",
       "Skew:                           0.711   Prob(JB):                         0.00\n",
       "Kurtosis:                       4.147   Cond. No.                     1.85e+03\n",
       "==============================================================================\n",
       "\n",
       "Notes:\n",
       "[1] Standard Errors assume that the covariance matrix of the errors is correctly specified.\n",
       "[2] The condition number is large, 1.85e+03. This might indicate that there are\n",
       "strong multicollinearity or other numerical problems.\n",
       "\"\"\""
      ]
     },
     "execution_count": 10,
     "metadata": {},
     "output_type": "execute_result"
    }
   ],
   "source": [
    "# regression 1\n",
    "est1 = smf.ols(formula=\"price_cpi_adj ~ covid_dum + town_2 + town_3 + town_4 + town_5 + town_6 + lease_rem + area_sqm + flat_type + storey\", data=data_rn1).fit()\n",
    "\n",
    "est1.summary()"
   ]
  },
  {
   "cell_type": "markdown",
   "id": "4acebbf8",
   "metadata": {},
   "source": [
    "### III.2. Model 2"
   ]
  },
  {
   "cell_type": "markdown",
   "id": "73e56b46",
   "metadata": {},
   "source": [
    "$ $price cpi_adj$_i = \\beta_0 + \\beta_1*$flat_type$_i+\\beta_2*$storey$_i+\\beta_3*$area_sqm$_i+\\beta_4*$lease_rem$_i+\\beta_5*district_i+\\beta_6*$covid$_i+\\beta_7*$covid_districts$_i +e_i$,  \n",
    "\n",
    "where $e_i \\sim N(0,\\sigma^2)$"
   ]
  },
  {
   "cell_type": "code",
   "execution_count": 14,
   "id": "fec2744f",
   "metadata": {},
   "outputs": [],
   "source": [
    "dummies = pd.get_dummies(data['town_dummy'])"
   ]
  },
  {
   "cell_type": "code",
   "execution_count": 15,
   "id": "f92c291f",
   "metadata": {},
   "outputs": [],
   "source": [
    "dummies.rename(columns={1:'d1',2:'d2',3:'d3',4:'d4',5:'d5',6:'d6'},inplace = True)"
   ]
  },
  {
   "cell_type": "code",
   "execution_count": 16,
   "id": "a55742e0",
   "metadata": {},
   "outputs": [],
   "source": [
    "dataTown=pd.concat([data,dummies.reindex(data.index)],axis=1)"
   ]
  },
  {
   "cell_type": "code",
   "execution_count": 17,
   "id": "0f69c02a",
   "metadata": {},
   "outputs": [],
   "source": [
    "dataTown['Covid']=dataTown.month.between('2020-02','2021-03').astype(int)"
   ]
  },
  {
   "cell_type": "code",
   "execution_count": 18,
   "id": "54c47d48",
   "metadata": {},
   "outputs": [],
   "source": [
    "dataTown['Covid2']=dataTown['d2']*dataTown['Covid']\n",
    "dataTown['Covid3']=dataTown['d3']*dataTown['Covid']\n",
    "dataTown['Covid4']=dataTown['d4']*dataTown['Covid']\n",
    "dataTown['Covid5']=dataTown['d5']*dataTown['Covid']\n",
    "dataTown['Covid6']=dataTown['d6']*dataTown['Covid']"
   ]
  },
  {
   "cell_type": "code",
   "execution_count": 19,
   "id": "a701b300",
   "metadata": {},
   "outputs": [],
   "source": [
    "dataTown['flat_type'].replace('ROOM','',regex=True,inplace=True)"
   ]
  },
  {
   "cell_type": "code",
   "execution_count": 22,
   "id": "09cb3025",
   "metadata": {},
   "outputs": [],
   "source": [
    "dataTown['Y']=dataTown['price cpi_adj']"
   ]
  },
  {
   "cell_type": "code",
   "execution_count": 24,
   "id": "5cafe8cd",
   "metadata": {
    "scrolled": true
   },
   "outputs": [],
   "source": [
    "est1 = smf.ols(formula=\"Y ~ flat_type + storey + area_sqm + lease_rem + d2 + d3 + d4 + d5 + d6 + Covid + Covid2 + Covid3 + Covid4 + Covid5 + Covid6\", data=dataTown).fit()"
   ]
  },
  {
   "cell_type": "code",
   "execution_count": 25,
   "id": "90a24353",
   "metadata": {},
   "outputs": [
    {
     "name": "stdout",
     "output_type": "stream",
     "text": [
      "                            OLS Regression Results                            \n",
      "==============================================================================\n",
      "Dep. Variable:                      Y   R-squared:                       0.778\n",
      "Model:                            OLS   Adj. R-squared:                  0.778\n",
      "Method:                 Least Squares   F-statistic:                     9205.\n",
      "Date:                Mon, 02 May 2022   Prob (F-statistic):               0.00\n",
      "Time:                        15:39:57   Log-Likelihood:            -6.6472e+05\n",
      "No. Observations:               52641   AIC:                         1.329e+06\n",
      "Df Residuals:                   52620   BIC:                         1.330e+06\n",
      "Df Model:                          20                                         \n",
      "Covariance Type:            nonrobust                                         \n",
      "=================================================================================================\n",
      "                                    coef    std err          t      P>|t|      [0.025      0.975]\n",
      "-------------------------------------------------------------------------------------------------\n",
      "Intercept                     -1.321e+05   1.49e+04     -8.838      0.000   -1.61e+05   -1.03e+05\n",
      "flat_type[T.2 ]               -1.086e+04   1.47e+04     -0.738      0.460   -3.97e+04     1.8e+04\n",
      "flat_type[T.3 ]                2.523e+04   1.46e+04      1.728      0.084   -3391.105    5.39e+04\n",
      "flat_type[T.4 ]                3.597e+04   1.48e+04      2.426      0.015    6904.041     6.5e+04\n",
      "flat_type[T.5 ]                5.208e+04   1.51e+04      3.451      0.001    2.25e+04    8.17e+04\n",
      "flat_type[T.EXECUTIVE]         9.326e+04   1.55e+04      6.019      0.000    6.29e+04    1.24e+05\n",
      "flat_type[T.MULTI GENERATION]  2.033e+05   2.12e+04      9.582      0.000    1.62e+05    2.45e+05\n",
      "storey                         5675.2631     59.740     95.000      0.000    5558.172    5792.354\n",
      "area_sqm                       3745.3341     46.676     80.242      0.000    3653.849    3836.819\n",
      "lease_rem                      4091.7629     29.150    140.370      0.000    4034.629    4148.897\n",
      "d2                            -7.965e+04   2967.922    -26.835      0.000   -8.55e+04   -7.38e+04\n",
      "d3                            -6.598e+04   3402.798    -19.391      0.000   -7.27e+04   -5.93e+04\n",
      "d4                            -2.054e+05   2881.398    -71.275      0.000   -2.11e+05      -2e+05\n",
      "d5                            -2.659e+05   2894.548    -91.850      0.000   -2.72e+05    -2.6e+05\n",
      "d6                            -2.635e+05   3064.679    -85.992      0.000    -2.7e+05   -2.58e+05\n",
      "Covid                          1.008e+04   3712.697      2.715      0.007    2802.263    1.74e+04\n",
      "Covid2                         1.074e+04   4012.081      2.676      0.007    2873.560    1.86e+04\n",
      "Covid3                        -3546.8961   4604.903     -0.770      0.441   -1.26e+04    5478.756\n",
      "Covid4                         5724.5271   3869.802      1.479      0.139   -1860.320    1.33e+04\n",
      "Covid5                         1.574e+04   3926.659      4.009      0.000    8047.111    2.34e+04\n",
      "Covid6                         1.301e+04   4152.874      3.132      0.002    4866.527    2.11e+04\n",
      "==============================================================================\n",
      "Omnibus:                     5074.418   Durbin-Watson:                   0.745\n",
      "Prob(Omnibus):                  0.000   Jarque-Bera (JB):             7868.637\n",
      "Skew:                           0.725   Prob(JB):                         0.00\n",
      "Kurtosis:                       4.219   Cond. No.                     1.54e+04\n",
      "==============================================================================\n",
      "\n",
      "Notes:\n",
      "[1] Standard Errors assume that the covariance matrix of the errors is correctly specified.\n",
      "[2] The condition number is large, 1.54e+04. This might indicate that there are\n",
      "strong multicollinearity or other numerical problems.\n"
     ]
    }
   ],
   "source": [
    "print(est1.summary())"
   ]
  },
  {
   "cell_type": "markdown",
   "id": "57fbd7c4",
   "metadata": {},
   "source": [
    "### III.3 Model 3"
   ]
  },
  {
   "cell_type": "markdown",
   "id": "597fe0f1",
   "metadata": {},
   "source": [
    "$ $price cpi_adj$_i = \\beta_0 + \\beta_1*$flat_type$_i+\\beta_2*$flat_model$_i+\\beta_3*$area_sqm$_i+\\beta_4*$lease_rem$_i+\\beta_5*covid_i+\\beta_6*$covid_flat_model$_i++e_i$,  \n",
    "\n",
    "where $e_i \\sim N(0,\\sigma^2)$"
   ]
  },
  {
   "cell_type": "code",
   "execution_count": 18,
   "id": "e94523da",
   "metadata": {},
   "outputs": [],
   "source": [
    "data_source = \"https://raw.githubusercontent.com/yantonglll/ECON570_Final_Project/main/ALL%20Prices%202019-2021%20mar.csv\"\n",
    "df= pd.read_csv(data_source)"
   ]
  },
  {
   "cell_type": "code",
   "execution_count": 19,
   "id": "a8a25920",
   "metadata": {},
   "outputs": [],
   "source": [
    "pd.set_option('display.max_columns', None)"
   ]
  },
  {
   "cell_type": "markdown",
   "id": "29020e5e",
   "metadata": {},
   "source": [
    "##### convert flat type to cateogry variables"
   ]
  },
  {
   "cell_type": "code",
   "execution_count": 20,
   "id": "b5caccef",
   "metadata": {},
   "outputs": [],
   "source": [
    "df['flat_type'].replace('ROOM','',regex=True,inplace=True)"
   ]
  },
  {
   "cell_type": "code",
   "execution_count": 21,
   "id": "4573b5a7",
   "metadata": {},
   "outputs": [],
   "source": [
    "df['covid_dummy'] = (df.month >'2020-01').astype(int)"
   ]
  },
  {
   "cell_type": "code",
   "execution_count": 22,
   "id": "c20df67a",
   "metadata": {},
   "outputs": [
    {
     "data": {
      "text/plain": [
       "array(['Improved', 'Model A', 'DBSS', 'Standard', 'New Generation',\n",
       "       'Apartment', 'Maisonette', 'Premium Apartment', 'Simplified',\n",
       "       'Type S2', 'Type S1', 'Adjoined flat', 'Model A2', 'Terrace',\n",
       "       'Premium Apartment Loft', 'Model A-Maisonette', 'Multi Generation',\n",
       "       'Improved-Maisonette', 'Premium Maisonette', '2-room'],\n",
       "      dtype=object)"
      ]
     },
     "execution_count": 22,
     "metadata": {},
     "output_type": "execute_result"
    }
   ],
   "source": [
    "df['flat_model'].unique()"
   ]
  },
  {
   "cell_type": "code",
   "execution_count": 23,
   "id": "87f1d395",
   "metadata": {},
   "outputs": [
    {
     "data": {
      "text/plain": [
       "20"
      ]
     },
     "execution_count": 23,
     "metadata": {},
     "output_type": "execute_result"
    }
   ],
   "source": [
    "len(df['flat_model'].unique())"
   ]
  },
  {
   "cell_type": "code",
   "execution_count": 24,
   "id": "7f6d1186",
   "metadata": {},
   "outputs": [],
   "source": [
    "flat_model_dummy = pd.get_dummies(df['flat_model'],drop_first = True)\n",
    "#flat_model_dummy\n",
    "df['flat_model'].replace(' ','-',regex=True,inplace=True)"
   ]
  },
  {
   "cell_type": "code",
   "execution_count": 25,
   "id": "aa4173ba",
   "metadata": {},
   "outputs": [],
   "source": [
    "df['flat_model'].replace('','-',regex=True,inplace=True)\n",
    "df = df.join(flat_model_dummy)"
   ]
  },
  {
   "cell_type": "code",
   "execution_count": 26,
   "id": "d97dd28a",
   "metadata": {},
   "outputs": [],
   "source": [
    "df['covid_flatmodel'] = df['covid_dummy']"
   ]
  },
  {
   "cell_type": "code",
   "execution_count": 27,
   "id": "d39f6993",
   "metadata": {},
   "outputs": [],
   "source": [
    "y = df['price cpi_adj']"
   ]
  },
  {
   "cell_type": "code",
   "execution_count": 28,
   "id": "d7233235",
   "metadata": {},
   "outputs": [
    {
     "data": {
      "text/html": [
       "<table class=\"simpletable\">\n",
       "<caption>OLS Regression Results</caption>\n",
       "<tr>\n",
       "  <th>Dep. Variable:</th>            <td>y</td>        <th>  R-squared:         </th>  <td>   0.641</td>  \n",
       "</tr>\n",
       "<tr>\n",
       "  <th>Model:</th>                   <td>OLS</td>       <th>  Adj. R-squared:    </th>  <td>   0.641</td>  \n",
       "</tr>\n",
       "<tr>\n",
       "  <th>Method:</th>             <td>Least Squares</td>  <th>  F-statistic:       </th>  <td>   3362.</td>  \n",
       "</tr>\n",
       "<tr>\n",
       "  <th>Date:</th>             <td>Thu, 05 May 2022</td> <th>  Prob (F-statistic):</th>   <td>  0.00</td>   \n",
       "</tr>\n",
       "<tr>\n",
       "  <th>Time:</th>                 <td>19:35:55</td>     <th>  Log-Likelihood:    </th> <td>-6.7730e+05</td>\n",
       "</tr>\n",
       "<tr>\n",
       "  <th>No. Observations:</th>      <td> 52641</td>      <th>  AIC:               </th>  <td>1.355e+06</td> \n",
       "</tr>\n",
       "<tr>\n",
       "  <th>Df Residuals:</th>          <td> 52612</td>      <th>  BIC:               </th>  <td>1.355e+06</td> \n",
       "</tr>\n",
       "<tr>\n",
       "  <th>Df Model:</th>              <td>    28</td>      <th>                     </th>      <td> </td>     \n",
       "</tr>\n",
       "<tr>\n",
       "  <th>Covariance Type:</th>      <td>nonrobust</td>    <th>                     </th>      <td> </td>     \n",
       "</tr>\n",
       "</table>\n",
       "<table class=\"simpletable\">\n",
       "<tr>\n",
       "                    <td></td>                      <th>coef</th>     <th>std err</th>      <th>t</th>      <th>P>|t|</th>  <th>[0.025</th>    <th>0.975]</th>  \n",
       "</tr>\n",
       "<tr>\n",
       "  <th>Intercept</th>                            <td>-9.826e+04</td> <td> 4.62e+04</td> <td>   -2.127</td> <td> 0.033</td> <td>-1.89e+05</td> <td>-7731.702</td>\n",
       "</tr>\n",
       "<tr>\n",
       "  <th>flat_type[T.2 ]</th>                      <td>-4.751e+04</td> <td> 1.87e+04</td> <td>   -2.537</td> <td> 0.011</td> <td>-8.42e+04</td> <td>-1.08e+04</td>\n",
       "</tr>\n",
       "<tr>\n",
       "  <th>flat_type[T.3 ]</th>                      <td> 9197.9452</td> <td> 1.86e+04</td> <td>    0.494</td> <td> 0.622</td> <td>-2.73e+04</td> <td> 4.57e+04</td>\n",
       "</tr>\n",
       "<tr>\n",
       "  <th>flat_type[T.4 ]</th>                      <td> 4.887e+04</td> <td>  1.9e+04</td> <td>    2.566</td> <td> 0.010</td> <td> 1.15e+04</td> <td> 8.62e+04</td>\n",
       "</tr>\n",
       "<tr>\n",
       "  <th>flat_type[T.5 ]</th>                      <td>  6.86e+04</td> <td> 1.97e+04</td> <td>    3.484</td> <td> 0.000</td> <td>    3e+04</td> <td> 1.07e+05</td>\n",
       "</tr>\n",
       "<tr>\n",
       "  <th>flat_type[T.EXECUTIVE]</th>               <td> 5.712e+04</td> <td> 2.06e+04</td> <td>    2.779</td> <td> 0.005</td> <td> 1.68e+04</td> <td> 9.74e+04</td>\n",
       "</tr>\n",
       "<tr>\n",
       "  <th>flat_type[T.MULTI GENERATION]</th>        <td> 1.419e+05</td> <td> 2.51e+04</td> <td>    5.655</td> <td> 0.000</td> <td> 9.27e+04</td> <td> 1.91e+05</td>\n",
       "</tr>\n",
       "<tr>\n",
       "  <th>flat_model[T.Adjoined-flat]</th>          <td> 1.365e+05</td> <td>  4.3e+04</td> <td>    3.170</td> <td> 0.002</td> <td> 5.21e+04</td> <td> 2.21e+05</td>\n",
       "</tr>\n",
       "<tr>\n",
       "  <th>flat_model[T.Apartment]</th>              <td> 6.759e+04</td> <td> 4.23e+04</td> <td>    1.597</td> <td> 0.110</td> <td>-1.54e+04</td> <td> 1.51e+05</td>\n",
       "</tr>\n",
       "<tr>\n",
       "  <th>flat_model[T.DBSS]</th>                   <td> 2.092e+05</td> <td> 4.21e+04</td> <td>    4.966</td> <td> 0.000</td> <td> 1.27e+05</td> <td> 2.92e+05</td>\n",
       "</tr>\n",
       "<tr>\n",
       "  <th>flat_model[T.Improved]</th>               <td> 1.815e+04</td> <td>  4.2e+04</td> <td>    0.432</td> <td> 0.666</td> <td>-6.43e+04</td> <td> 1.01e+05</td>\n",
       "</tr>\n",
       "<tr>\n",
       "  <th>flat_model[T.Improved-Maisonette]</th>    <td> 2.244e+05</td> <td> 5.94e+04</td> <td>    3.781</td> <td> 0.000</td> <td> 1.08e+05</td> <td> 3.41e+05</td>\n",
       "</tr>\n",
       "<tr>\n",
       "  <th>flat_model[T.Maisonette]</th>             <td> 1.427e+05</td> <td> 4.23e+04</td> <td>    3.369</td> <td> 0.001</td> <td> 5.97e+04</td> <td> 2.26e+05</td>\n",
       "</tr>\n",
       "<tr>\n",
       "  <th>flat_model[T.Model-A]</th>                <td> 4763.6813</td> <td>  4.2e+04</td> <td>    0.113</td> <td> 0.910</td> <td>-7.76e+04</td> <td> 8.71e+04</td>\n",
       "</tr>\n",
       "<tr>\n",
       "  <th>flat_model[T.Model-A-Maisonette]</th>     <td> 1.707e+05</td> <td>  4.3e+04</td> <td>    3.966</td> <td> 0.000</td> <td> 8.63e+04</td> <td> 2.55e+05</td>\n",
       "</tr>\n",
       "<tr>\n",
       "  <th>flat_model[T.Model-A2]</th>               <td>-6.347e+04</td> <td> 4.22e+04</td> <td>   -1.503</td> <td> 0.133</td> <td>-1.46e+05</td> <td> 1.93e+04</td>\n",
       "</tr>\n",
       "<tr>\n",
       "  <th>flat_model[T.Multi-Generation]</th>       <td> 1.419e+05</td> <td> 2.51e+04</td> <td>    5.655</td> <td> 0.000</td> <td> 9.27e+04</td> <td> 1.91e+05</td>\n",
       "</tr>\n",
       "<tr>\n",
       "  <th>flat_model[T.New-Generation]</th>         <td> 1.418e+04</td> <td>  4.2e+04</td> <td>    0.337</td> <td> 0.736</td> <td>-6.82e+04</td> <td> 9.66e+04</td>\n",
       "</tr>\n",
       "<tr>\n",
       "  <th>flat_model[T.Premium-Apartment]</th>      <td> 2970.1058</td> <td>  4.2e+04</td> <td>    0.071</td> <td> 0.944</td> <td>-7.94e+04</td> <td> 8.54e+04</td>\n",
       "</tr>\n",
       "<tr>\n",
       "  <th>flat_model[T.Premium-Apartment-Loft]</th> <td> 2.981e+05</td> <td> 4.41e+04</td> <td>    6.757</td> <td> 0.000</td> <td> 2.12e+05</td> <td> 3.85e+05</td>\n",
       "</tr>\n",
       "<tr>\n",
       "  <th>flat_model[T.Premium-Maisonette]</th>     <td> 1.464e+05</td> <td> 5.37e+04</td> <td>    2.726</td> <td> 0.006</td> <td> 4.12e+04</td> <td> 2.52e+05</td>\n",
       "</tr>\n",
       "<tr>\n",
       "  <th>flat_model[T.Simplified]</th>             <td> 5058.8539</td> <td> 4.21e+04</td> <td>    0.120</td> <td> 0.904</td> <td>-7.74e+04</td> <td> 8.76e+04</td>\n",
       "</tr>\n",
       "<tr>\n",
       "  <th>flat_model[T.Standard]</th>               <td>  6.33e+04</td> <td> 4.21e+04</td> <td>    1.503</td> <td> 0.133</td> <td>-1.92e+04</td> <td> 1.46e+05</td>\n",
       "</tr>\n",
       "<tr>\n",
       "  <th>flat_model[T.Terrace]</th>                <td> 5.026e+05</td> <td> 4.52e+04</td> <td>   11.116</td> <td> 0.000</td> <td> 4.14e+05</td> <td> 5.91e+05</td>\n",
       "</tr>\n",
       "<tr>\n",
       "  <th>flat_model[T.Type-S1]</th>                <td> 3.828e+05</td> <td> 4.34e+04</td> <td>    8.819</td> <td> 0.000</td> <td> 2.98e+05</td> <td> 4.68e+05</td>\n",
       "</tr>\n",
       "<tr>\n",
       "  <th>flat_model[T.Type-S2]</th>                <td> 4.284e+05</td> <td> 4.44e+04</td> <td>    9.653</td> <td> 0.000</td> <td> 3.41e+05</td> <td> 5.15e+05</td>\n",
       "</tr>\n",
       "<tr>\n",
       "  <th>area_sqm</th>                             <td> 2540.3019</td> <td>   75.264</td> <td>   33.752</td> <td> 0.000</td> <td> 2392.783</td> <td> 2687.821</td>\n",
       "</tr>\n",
       "<tr>\n",
       "  <th>covid_dummy</th>                          <td>  1.12e+04</td> <td>  410.867</td> <td>   27.250</td> <td> 0.000</td> <td> 1.04e+04</td> <td>  1.2e+04</td>\n",
       "</tr>\n",
       "<tr>\n",
       "  <th>storey</th>                               <td> 7491.9153</td> <td>   75.273</td> <td>   99.531</td> <td> 0.000</td> <td> 7344.380</td> <td> 7639.450</td>\n",
       "</tr>\n",
       "<tr>\n",
       "  <th>lease_rem</th>                            <td> 2087.8098</td> <td>   48.906</td> <td>   42.690</td> <td> 0.000</td> <td> 1991.953</td> <td> 2183.667</td>\n",
       "</tr>\n",
       "<tr>\n",
       "  <th>covid_flatmodel</th>                      <td>  1.12e+04</td> <td>  410.867</td> <td>   27.250</td> <td> 0.000</td> <td> 1.04e+04</td> <td>  1.2e+04</td>\n",
       "</tr>\n",
       "</table>\n",
       "<table class=\"simpletable\">\n",
       "<tr>\n",
       "  <th>Omnibus:</th>       <td>10778.572</td> <th>  Durbin-Watson:     </th> <td>   0.584</td> \n",
       "</tr>\n",
       "<tr>\n",
       "  <th>Prob(Omnibus):</th>  <td> 0.000</td>   <th>  Jarque-Bera (JB):  </th> <td>22931.775</td>\n",
       "</tr>\n",
       "<tr>\n",
       "  <th>Skew:</th>           <td> 1.200</td>   <th>  Prob(JB):          </th> <td>    0.00</td> \n",
       "</tr>\n",
       "<tr>\n",
       "  <th>Kurtosis:</th>       <td> 5.166</td>   <th>  Cond. No.          </th> <td>1.02e+16</td> \n",
       "</tr>\n",
       "</table><br/><br/>Notes:<br/>[1] Standard Errors assume that the covariance matrix of the errors is correctly specified.<br/>[2] The smallest eigenvalue is 7.98e-24. This might indicate that there are<br/>strong multicollinearity problems or that the design matrix is singular."
      ],
      "text/plain": [
       "<class 'statsmodels.iolib.summary.Summary'>\n",
       "\"\"\"\n",
       "                            OLS Regression Results                            \n",
       "==============================================================================\n",
       "Dep. Variable:                      y   R-squared:                       0.641\n",
       "Model:                            OLS   Adj. R-squared:                  0.641\n",
       "Method:                 Least Squares   F-statistic:                     3362.\n",
       "Date:                Thu, 05 May 2022   Prob (F-statistic):               0.00\n",
       "Time:                        19:35:55   Log-Likelihood:            -6.7730e+05\n",
       "No. Observations:               52641   AIC:                         1.355e+06\n",
       "Df Residuals:                   52612   BIC:                         1.355e+06\n",
       "Df Model:                          28                                         \n",
       "Covariance Type:            nonrobust                                         \n",
       "========================================================================================================\n",
       "                                           coef    std err          t      P>|t|      [0.025      0.975]\n",
       "--------------------------------------------------------------------------------------------------------\n",
       "Intercept                            -9.826e+04   4.62e+04     -2.127      0.033   -1.89e+05   -7731.702\n",
       "flat_type[T.2 ]                      -4.751e+04   1.87e+04     -2.537      0.011   -8.42e+04   -1.08e+04\n",
       "flat_type[T.3 ]                       9197.9452   1.86e+04      0.494      0.622   -2.73e+04    4.57e+04\n",
       "flat_type[T.4 ]                       4.887e+04    1.9e+04      2.566      0.010    1.15e+04    8.62e+04\n",
       "flat_type[T.5 ]                        6.86e+04   1.97e+04      3.484      0.000       3e+04    1.07e+05\n",
       "flat_type[T.EXECUTIVE]                5.712e+04   2.06e+04      2.779      0.005    1.68e+04    9.74e+04\n",
       "flat_type[T.MULTI GENERATION]         1.419e+05   2.51e+04      5.655      0.000    9.27e+04    1.91e+05\n",
       "flat_model[T.Adjoined-flat]           1.365e+05    4.3e+04      3.170      0.002    5.21e+04    2.21e+05\n",
       "flat_model[T.Apartment]               6.759e+04   4.23e+04      1.597      0.110   -1.54e+04    1.51e+05\n",
       "flat_model[T.DBSS]                    2.092e+05   4.21e+04      4.966      0.000    1.27e+05    2.92e+05\n",
       "flat_model[T.Improved]                1.815e+04    4.2e+04      0.432      0.666   -6.43e+04    1.01e+05\n",
       "flat_model[T.Improved-Maisonette]     2.244e+05   5.94e+04      3.781      0.000    1.08e+05    3.41e+05\n",
       "flat_model[T.Maisonette]              1.427e+05   4.23e+04      3.369      0.001    5.97e+04    2.26e+05\n",
       "flat_model[T.Model-A]                 4763.6813    4.2e+04      0.113      0.910   -7.76e+04    8.71e+04\n",
       "flat_model[T.Model-A-Maisonette]      1.707e+05    4.3e+04      3.966      0.000    8.63e+04    2.55e+05\n",
       "flat_model[T.Model-A2]               -6.347e+04   4.22e+04     -1.503      0.133   -1.46e+05    1.93e+04\n",
       "flat_model[T.Multi-Generation]        1.419e+05   2.51e+04      5.655      0.000    9.27e+04    1.91e+05\n",
       "flat_model[T.New-Generation]          1.418e+04    4.2e+04      0.337      0.736   -6.82e+04    9.66e+04\n",
       "flat_model[T.Premium-Apartment]       2970.1058    4.2e+04      0.071      0.944   -7.94e+04    8.54e+04\n",
       "flat_model[T.Premium-Apartment-Loft]  2.981e+05   4.41e+04      6.757      0.000    2.12e+05    3.85e+05\n",
       "flat_model[T.Premium-Maisonette]      1.464e+05   5.37e+04      2.726      0.006    4.12e+04    2.52e+05\n",
       "flat_model[T.Simplified]              5058.8539   4.21e+04      0.120      0.904   -7.74e+04    8.76e+04\n",
       "flat_model[T.Standard]                 6.33e+04   4.21e+04      1.503      0.133   -1.92e+04    1.46e+05\n",
       "flat_model[T.Terrace]                 5.026e+05   4.52e+04     11.116      0.000    4.14e+05    5.91e+05\n",
       "flat_model[T.Type-S1]                 3.828e+05   4.34e+04      8.819      0.000    2.98e+05    4.68e+05\n",
       "flat_model[T.Type-S2]                 4.284e+05   4.44e+04      9.653      0.000    3.41e+05    5.15e+05\n",
       "area_sqm                              2540.3019     75.264     33.752      0.000    2392.783    2687.821\n",
       "covid_dummy                            1.12e+04    410.867     27.250      0.000    1.04e+04     1.2e+04\n",
       "storey                                7491.9153     75.273     99.531      0.000    7344.380    7639.450\n",
       "lease_rem                             2087.8098     48.906     42.690      0.000    1991.953    2183.667\n",
       "covid_flatmodel                        1.12e+04    410.867     27.250      0.000    1.04e+04     1.2e+04\n",
       "==============================================================================\n",
       "Omnibus:                    10778.572   Durbin-Watson:                   0.584\n",
       "Prob(Omnibus):                  0.000   Jarque-Bera (JB):            22931.775\n",
       "Skew:                           1.200   Prob(JB):                         0.00\n",
       "Kurtosis:                       5.166   Cond. No.                     1.02e+16\n",
       "==============================================================================\n",
       "\n",
       "Notes:\n",
       "[1] Standard Errors assume that the covariance matrix of the errors is correctly specified.\n",
       "[2] The smallest eigenvalue is 7.98e-24. This might indicate that there are\n",
       "strong multicollinearity problems or that the design matrix is singular.\n",
       "\"\"\""
      ]
     },
     "execution_count": 28,
     "metadata": {},
     "output_type": "execute_result"
    }
   ],
   "source": [
    "result = smf.ols(formula = 'y~flat_type+area_sqm+covid_dummy+storey+lease_rem+flat_model+covid_flatmodel',data = df).fit()\n",
    "result.summary()\n",
    "#dataTown['Covid2']=dataTown['d2']*dataTown['Covid']"
   ]
  },
  {
   "cell_type": "markdown",
   "id": "04906dc1",
   "metadata": {},
   "source": [
    "## IV Findings"
   ]
  },
  {
   "cell_type": "markdown",
   "id": "98a81b5c",
   "metadata": {},
   "source": [
    "All three models show that the Covid had a statistically significant positive impact on HDB house price. \n",
    "\n",
    "Focusing on model 1,the regression output shows that a more prime district tends to have a less price difference from the most prime district (district 1); the coefficient of covid dummy shows that house price in post-covid era increased by 1836 cpi-adjusted price. \n",
    "\n",
    "Focusing on model 2, with considering Covid's impact on each district, the coefficient of covid decreased from 1836 to 1008, and it is still significant. In other words, we eliminate the potential omitted variable baises from model 1. The coefficient of \"covid_district\" variables shows that not every district in Singapore had house price increase. District 3 had a decrease of 3546.89-1008=2538.89 cpi-adjusted Singapore dollar. The magnitude of these coefficients showed that District 4 had the most house price increase. \n",
    "\n",
    "Turning to model 3, where we measure people's preference on house types and house models, the magnitudes of coefficients show that the multi-generation type of house increase the house price the most. We might infer that the multi generation type of HDB house was more popular. The coefficient of 2 rooms shows that 2 rooms type would reduce house price by 4751 cpi-adjusted Singapore dollar. "
   ]
  },
  {
   "cell_type": "markdown",
   "id": "031197c2",
   "metadata": {},
   "source": [
    "## V Conclusion"
   ]
  },
  {
   "cell_type": "markdown",
   "id": "0a4963ce",
   "metadata": {},
   "source": [
    "In conclusion, we built three models in this project, where model 1 measures the Covid impact on overall Singapore house market, and model 2 measures the Covid impact on the house market of different districts in Singapore, and model 3 meausures the Covid impact with consideration of different house types and house models. The regression results of all three models show that Covid had positive impact on house price in Singapore. However, in a district level, we found that Covid did not always have positive impact on house price; district 3 had a decrease of 2538.89 cpi-adjusted Singapore dollar after Covid. In model 3, we found that the multi-generation is the most preferred house type and 2 rooms is the least preferred house type. \n",
    "In addition, we also learnt some lessons from doing this project. We often perceive that the pandemic deteriorates the economy and slows down social development, but we should also remember that besides the “covid” incident alone, there are many other factors that need to be considered as well. Just as what we did in our project, we always have to include as many useful variables as possible into our regression to avoid omitted variable bias, making our results more reliable.\n",
    "In the future, when more data points are available, we might be able to answer this question more thoroughly because technically the pandemic has not ended yet and it is unclear whether the effect (our coefficient of covid here) will change if we see the problem in a longer time horizon.\n"
   ]
  },
  {
   "cell_type": "markdown",
   "id": "2122fc83",
   "metadata": {},
   "source": [
    "## VI Reference"
   ]
  },
  {
   "cell_type": "markdown",
   "id": "0d446741",
   "metadata": {},
   "source": [
    "- Anenberg, E., &amp; Ringo, D. (2021). Housing market tightness during COVID-19: Increased demand or reduced supply? The Fed - Housing Market Tightness During COVID-19: Increased Demand or Reduced Supply? Retrieved May 5, 2022, from https://www.federalreserve.gov/econres/notes/feds-notes/housing-market-tightness-during-covid-19-increased-demand-or-reduced-supply-20210708.htm \n",
    "- Qian, X., Qiu, S., & Zhang, G. (2021). The impact of COVID-19 on housing price: Evidence from China. Finance research letters, 43, 101944. https://doi.org/10.1016/j.frl.2021.101944\n",
    "- Wen, Haizhen. 2005. “Characteristic price of urban house: theory and empirical research.”EconomicScience Press (4)19~38\n",
    "- Housing & Development Board Website. https://www.hdb.gov.sg/cs/infoweb/homepage\n",
    "- HDB flat prices 1990-2021 March. Kaggle. https://www.kaggle.com/datasets/denzilg/hdb-flat-prices-19902021-march"
   ]
  }
 ],
 "metadata": {
  "kernelspec": {
   "display_name": "Python 3 (ipykernel)",
   "language": "python",
   "name": "python3"
  },
  "language_info": {
   "codemirror_mode": {
    "name": "ipython",
    "version": 3
   },
   "file_extension": ".py",
   "mimetype": "text/x-python",
   "name": "python",
   "nbconvert_exporter": "python",
   "pygments_lexer": "ipython3",
   "version": "3.9.7"
  }
 },
 "nbformat": 4,
 "nbformat_minor": 5
}
